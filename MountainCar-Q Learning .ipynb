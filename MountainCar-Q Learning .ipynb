{
 "cells": [
  {
   "cell_type": "code",
   "execution_count": 67,
   "id": "f5aa6b94",
   "metadata": {},
   "outputs": [],
   "source": [
    "import gymnasium as gym\n",
    "import numpy as np\n",
    "import random\n",
    "import matplotlib.pyplot as plt\n",
    "import math\n"
   ]
  },
  {
   "cell_type": "code",
   "execution_count": 68,
   "id": "25db6b45",
   "metadata": {},
   "outputs": [
    {
     "name": "stdout",
     "output_type": "stream",
     "text": [
      "Box([-1.2  -0.07], [0.6  0.07], (2,), float32)\n"
     ]
    }
   ],
   "source": [
    "env=gym.make('MountainCar-v0')\n",
    "env.reset()\n",
    "print(env.observation_space)"
   ]
  },
  {
   "cell_type": "code",
   "execution_count": 100,
   "id": "1b788010",
   "metadata": {},
   "outputs": [],
   "source": [
    "#setting granulating indices\n",
    "g_0=100#for car position\n",
    "g_1=20#for car velocity\n"
   ]
  },
  {
   "cell_type": "code",
   "execution_count": 101,
   "id": "45e68c69",
   "metadata": {},
   "outputs": [],
   "source": [
    "def discrete(state):\n",
    "    r=[0]*2\n",
    "    #state[0]\n",
    "    if state[0]<=-1.2:\n",
    "        r[0]=0\n",
    "    elif state[0]>=0.6:\n",
    "        r[0]=g_0\n",
    "    else:\n",
    "        for i in range(g_0):\n",
    "            if state[0]>(-1.2+i*(1.8/g_0)) and state[0]<=(-1.2+(i+1)*(1.8/g_0)):\n",
    "                r[0]=i+1\n",
    "    #state[1]\n",
    "    if state[1]<=-0.07:\n",
    "        r[1]=0\n",
    "    elif state[1]>=0.07:\n",
    "        r[1]=g_1\n",
    "    else:\n",
    "        for i in range(g_1):\n",
    "            if state[1]>(-0.07+i*(0.14/g_1)) and state[1]<=(-0.07+(i+1)*(0.14/g_1)):\n",
    "                r[1]=i+1\n",
    "    return r\n"
   ]
  },
  {
   "cell_type": "code",
   "execution_count": 102,
   "id": "5406bcdf",
   "metadata": {},
   "outputs": [
    {
     "name": "stdout",
     "output_type": "stream",
     "text": [
      "[0, 18]\n"
     ]
    },
    {
     "data": {
      "text/plain": [
       "(array([0.5142849, 0.012579 ], dtype=float32), -1.0, True, False, {})"
      ]
     },
     "execution_count": 102,
     "metadata": {},
     "output_type": "execute_result"
    }
   ],
   "source": [
    "a=[-1.8,0.05]\n",
    "print(discrete(a))\n",
    "act=1\n",
    "env.step(act)"
   ]
  },
  {
   "cell_type": "code",
   "execution_count": 103,
   "id": "e159c12b",
   "metadata": {},
   "outputs": [
    {
     "name": "stdout",
     "output_type": "stream",
     "text": [
      "[[[0. 0. 0.]\n",
      "  [0. 0. 0.]\n",
      "  [0. 0. 0.]\n",
      "  ...\n",
      "  [0. 0. 0.]\n",
      "  [0. 0. 0.]\n",
      "  [0. 0. 0.]]\n",
      "\n",
      " [[0. 0. 0.]\n",
      "  [0. 0. 0.]\n",
      "  [0. 0. 0.]\n",
      "  ...\n",
      "  [0. 0. 0.]\n",
      "  [0. 0. 0.]\n",
      "  [0. 0. 0.]]\n",
      "\n",
      " [[0. 0. 0.]\n",
      "  [0. 0. 0.]\n",
      "  [0. 0. 0.]\n",
      "  ...\n",
      "  [0. 0. 0.]\n",
      "  [0. 0. 0.]\n",
      "  [0. 0. 0.]]\n",
      "\n",
      " ...\n",
      "\n",
      " [[0. 0. 0.]\n",
      "  [0. 0. 0.]\n",
      "  [0. 0. 0.]\n",
      "  ...\n",
      "  [0. 0. 0.]\n",
      "  [0. 0. 0.]\n",
      "  [0. 0. 0.]]\n",
      "\n",
      " [[0. 0. 0.]\n",
      "  [0. 0. 0.]\n",
      "  [0. 0. 0.]\n",
      "  ...\n",
      "  [0. 0. 0.]\n",
      "  [0. 0. 0.]\n",
      "  [0. 0. 0.]]\n",
      "\n",
      " [[0. 0. 0.]\n",
      "  [0. 0. 0.]\n",
      "  [0. 0. 0.]\n",
      "  ...\n",
      "  [0. 0. 0.]\n",
      "  [0. 0. 0.]\n",
      "  [0. 0. 0.]]]\n"
     ]
    }
   ],
   "source": [
    "g_2=env.action_space.n#3\n",
    "qtable=np.zeros((g_0+1,g_1+1,g_2))\n",
    "print (qtable)"
   ]
  },
  {
   "cell_type": "code",
   "execution_count": 110,
   "id": "a0fa42d9",
   "metadata": {},
   "outputs": [],
   "source": [
    "#parameters\n",
    "episodes=1000\n",
    "iterations=10\n",
    "alpha=0.3\n",
    "d=1\n",
    "minimum=-120\n"
   ]
  },
  {
   "cell_type": "code",
   "execution_count": 111,
   "id": "1d0f43a7",
   "metadata": {},
   "outputs": [
    {
     "name": "stdout",
     "output_type": "stream",
     "text": [
      "[-200.0, -199.988, -198.831, -195.568, -191.764, -193.85, -189.418, -184.68, -178.903, -184.062]\n"
     ]
    }
   ],
   "source": [
    "avgr = [0] * iterations\n",
    "\n",
    "for iter in range(iterations):\n",
    "    qtabletemp = qtable  # Create a copy of the Q-table\n",
    "    c = 0\n",
    "    \n",
    "    for epi in range(episodes):\n",
    "        state, inf = env.reset()\n",
    "        done = False\n",
    "        state = discrete(state)\n",
    "\n",
    "        ep = 1 / (iter + 1)\n",
    "\n",
    "        while not done:\n",
    "            if np.random.uniform(0, 1) < ep:\n",
    "                action = env.action_space.sample()\n",
    "            else:\n",
    "                action = np.argmax(qtable[state[0], state[1]])\n",
    "\n",
    "            newstate, reward, term, trunc, info = env.step(action)\n",
    "            c += reward\n",
    "            newstate = discrete(newstate)\n",
    "\n",
    "            \n",
    "            done = trunc or term\n",
    "            qtabletemp[state[0], state[1], action] = (1 - alpha) * qtabletemp[state[0], state[1], action] + alpha * (reward + d * np.max(qtabletemp[newstate[0], newstate[1]]))\n",
    "            state = newstate\n",
    "\n",
    "    c = c / episodes\n",
    "    avgr[iter] = c\n",
    "\n",
    "    qtable = qtabletemp  # Update the original Q-table with the values from the temporary copy\n",
    "\n",
    "print(avgr)\n"
   ]
  },
  {
   "cell_type": "code",
   "execution_count": 106,
   "id": "f87e6486",
   "metadata": {},
   "outputs": [
    {
     "name": "stdout",
     "output_type": "stream",
     "text": [
      "[[[0. 0. 0.]\n",
      "  [0. 0. 0.]\n",
      "  [0. 0. 0.]\n",
      "  ...\n",
      "  [0. 0. 0.]\n",
      "  [0. 0. 0.]\n",
      "  [0. 0. 0.]]\n",
      "\n",
      " [[0. 0. 0.]\n",
      "  [0. 0. 0.]\n",
      "  [0. 0. 0.]\n",
      "  ...\n",
      "  [0. 0. 0.]\n",
      "  [0. 0. 0.]\n",
      "  [0. 0. 0.]]\n",
      "\n",
      " [[0. 0. 0.]\n",
      "  [0. 0. 0.]\n",
      "  [0. 0. 0.]\n",
      "  ...\n",
      "  [0. 0. 0.]\n",
      "  [0. 0. 0.]\n",
      "  [0. 0. 0.]]\n",
      "\n",
      " ...\n",
      "\n",
      " [[0. 0. 0.]\n",
      "  [0. 0. 0.]\n",
      "  [0. 0. 0.]\n",
      "  ...\n",
      "  [0. 0. 0.]\n",
      "  [0. 0. 0.]\n",
      "  [0. 0. 0.]]\n",
      "\n",
      " [[0. 0. 0.]\n",
      "  [0. 0. 0.]\n",
      "  [0. 0. 0.]\n",
      "  ...\n",
      "  [0. 0. 0.]\n",
      "  [0. 0. 0.]\n",
      "  [0. 0. 0.]]\n",
      "\n",
      " [[0. 0. 0.]\n",
      "  [0. 0. 0.]\n",
      "  [0. 0. 0.]\n",
      "  ...\n",
      "  [0. 0. 0.]\n",
      "  [0. 0. 0.]\n",
      "  [0. 0. 0.]]]\n"
     ]
    }
   ],
   "source": [
    "print(qtable)"
   ]
  },
  {
   "cell_type": "code",
   "execution_count": 107,
   "id": "58e720c1",
   "metadata": {},
   "outputs": [
    {
     "name": "stdout",
     "output_type": "stream",
     "text": [
      "[-197.082, -196.051, -195.886, -194.353, -192.289, -190.814, -194.316, -195.181, -191.611, -190.698]\n"
     ]
    }
   ],
   "source": [
    "avgr = [0] * iterations\n",
    "\n",
    "for iter in range(iterations):\n",
    "    qtabletemp = qtable  # Create a copy of the Q-table\n",
    "    c = 0\n",
    "    \n",
    "    for epi in range(episodes):\n",
    "        state, inf = env.reset()\n",
    "        done = False\n",
    "        state = discrete(state)\n",
    "\n",
    "        ep = 1 / (iter+iterations + 1)\n",
    "\n",
    "        while not done:\n",
    "            if np.random.uniform(0, 1) < ep:\n",
    "                action = env.action_space.sample()\n",
    "            else:\n",
    "                action = np.argmax(qtable[state[0], state[1]])\n",
    "\n",
    "            newstate, reward, term, trunc, info = env.step(action)\n",
    "            c += reward\n",
    "            newstate = discrete(newstate)\n",
    "\n",
    "            \n",
    "            done = trunc or term\n",
    "            qtabletemp[state[0], state[1], action] = (1 - alpha) * qtabletemp[state[0], state[1], action] + alpha * (reward + d * np.max(qtabletemp[newstate[0], newstate[1]]))\n",
    "            state = newstate\n",
    "\n",
    "    c = c / episodes\n",
    "    avgr[iter] = c\n",
    "\n",
    "    qtable = qtabletemp  # Update the original Q-table with the values from the temporary copy\n",
    "\n",
    "print(avgr)\n"
   ]
  },
  {
   "cell_type": "code",
   "execution_count": 108,
   "id": "421e9ad9",
   "metadata": {},
   "outputs": [
    {
     "name": "stdout",
     "output_type": "stream",
     "text": [
      "[-183.907, -183.515, -191.263, -190.535, -187.96, -189.529, -190.863, -190.486, -191.347, -187.816]\n"
     ]
    }
   ],
   "source": [
    "avgr = [0] * iterations\n",
    "\n",
    "for iter in range(iterations):\n",
    "    qtabletemp = qtable  # Create a copy of the Q-table\n",
    "    c = 0\n",
    "    \n",
    "    for epi in range(episodes):\n",
    "        state, inf = env.reset()\n",
    "        done = False\n",
    "        state = discrete(state)\n",
    "\n",
    "        ep = 1 / (iter+iterations+iterations + 1)\n",
    "\n",
    "        while not done:\n",
    "            if np.random.uniform(0, 1) < ep:\n",
    "                action = env.action_space.sample()\n",
    "            else:\n",
    "                action = np.argmax(qtable[state[0], state[1]])\n",
    "\n",
    "            newstate, reward, term, trunc, info = env.step(action)\n",
    "            c += reward\n",
    "            newstate = discrete(newstate)\n",
    "\n",
    "            \n",
    "            done = trunc or term\n",
    "            qtabletemp[state[0], state[1], action] = (1 - alpha) * qtabletemp[state[0], state[1], action] + alpha * (reward + d * np.max(qtabletemp[newstate[0], newstate[1]]))\n",
    "            state = newstate\n",
    "\n",
    "    c = c / episodes\n",
    "    avgr[iter] = c\n",
    "\n",
    "    qtable = qtabletemp  # Update the original Q-table with the values from the temporary copy\n",
    "\n",
    "print(avgr)"
   ]
  },
  {
   "cell_type": "code",
   "execution_count": 109,
   "id": "5d6dce96",
   "metadata": {},
   "outputs": [
    {
     "name": "stdout",
     "output_type": "stream",
     "text": [
      "[-194.038, -192.78, -190.011, -187.643, -186.788, -191.449, -189.461, -188.939, -190.579, -186.62]\n"
     ]
    }
   ],
   "source": [
    "avgr = [0] * iterations\n",
    "\n",
    "for iter in range(iterations):\n",
    "    qtabletemp = qtable  # Create a copy of the Q-table\n",
    "    c = 0\n",
    "    \n",
    "    for epi in range(episodes):\n",
    "        state, inf = env.reset()\n",
    "        done = False\n",
    "        state = discrete(state)\n",
    "\n",
    "        ep = 1 / (iter+iterations+iterations + 1)\n",
    "\n",
    "        while not done:\n",
    "            if np.random.uniform(0, 1) < ep:\n",
    "                action = env.action_space.sample()\n",
    "            else:\n",
    "                action = np.argmax(qtable[state[0], state[1]])\n",
    "\n",
    "            newstate, reward, term, trunc, info = env.step(action)\n",
    "            c += reward\n",
    "            newstate = discrete(newstate)\n",
    "\n",
    "            \n",
    "            done = trunc or term\n",
    "            qtabletemp[state[0], state[1], action] = (1 - alpha) * qtabletemp[state[0], state[1], action] + alpha * (reward + d * np.max(qtabletemp[newstate[0], newstate[1]]))\n",
    "            state = newstate\n",
    "\n",
    "    c = c / episodes\n",
    "    avgr[iter] = c\n",
    "\n",
    "    qtable = qtabletemp  # Update the original Q-table with the values from the temporary copy\n",
    "\n",
    "print(avgr)"
   ]
  },
  {
   "cell_type": "code",
   "execution_count": null,
   "id": "447fc9c0",
   "metadata": {},
   "outputs": [],
   "source": []
  }
 ],
 "metadata": {
  "kernelspec": {
   "display_name": "Python 3 (ipykernel)",
   "language": "python",
   "name": "python3"
  },
  "language_info": {
   "codemirror_mode": {
    "name": "ipython",
    "version": 3
   },
   "file_extension": ".py",
   "mimetype": "text/x-python",
   "name": "python",
   "nbconvert_exporter": "python",
   "pygments_lexer": "ipython3",
   "version": "3.11.3"
  }
 },
 "nbformat": 4,
 "nbformat_minor": 5
}
